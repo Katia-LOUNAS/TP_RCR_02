{
 "cells": [
  {
   "cell_type": "code",
   "execution_count": 1,
   "metadata": {},
   "outputs": [],
   "source": [
    "import torch"
   ]
  },
  {
   "cell_type": "code",
   "execution_count": 6,
   "metadata": {},
   "outputs": [
    {
     "name": "stdout",
     "output_type": "stream",
     "text": [
      "Gradient of A: -0.13447070121765137\n",
      "Gradient of B: 0.25\n"
     ]
    }
   ],
   "source": [
    "\n",
    "# Define logical statements\n",
    "A = torch.tensor([1.0], requires_grad=True)\n",
    "B = torch.tensor([0.0], requires_grad=True)\n",
    "\n",
    "# Differentiable AND operation using a loss function\n",
    "input_tensor = torch.stack([A, B])\n",
    "target_tensor = torch.tensor([1.0, 0.0]).reshape(input_tensor.shape)  # Reshape target tensor to match input tensor size\n",
    "\n",
    "loss = torch.nn.functional.binary_cross_entropy_with_logits(input_tensor, target_tensor)\n",
    "\n",
    "# Propagate through the graph\n",
    "loss.backward()\n",
    "\n",
    "# Print gradients\n",
    "print(\"Gradient of A:\", A.grad.item())\n",
    "print(\"Gradient of B:\", B.grad.item())\n"
   ]
  },
  {
   "cell_type": "code",
   "execution_count": 8,
   "metadata": {},
   "outputs": [
    {
     "name": "stderr",
     "output_type": "stream",
     "text": [
      "WARNING:pgmpy:BayesianModel has been renamed to BayesianNetwork. Please use BayesianNetwork class, BayesianModel will be removed in future.\n",
      "WARNING:pgmpy:BayesianModel has been renamed to BayesianNetwork. Please use BayesianNetwork class, BayesianModel will be removed in future.\n"
     ]
    },
    {
     "ename": "ValueError",
     "evalue": "Only TabularCPD or ContinuousFactor can be added.",
     "output_type": "error",
     "traceback": [
      "\u001b[1;31m---------------------------------------------------------------------------\u001b[0m",
      "\u001b[1;31mValueError\u001b[0m                                Traceback (most recent call last)",
      "Cell \u001b[1;32mIn[8], line 42\u001b[0m\n\u001b[0;32m     40\u001b[0m     cardinality \u001b[38;5;241m=\u001b[39m \u001b[38;5;241m2\u001b[39m  \u001b[38;5;66;03m# Binary variables\u001b[39;00m\n\u001b[0;32m     41\u001b[0m     cpd_values \u001b[38;5;241m=\u001b[39m [random\u001b[38;5;241m.\u001b[39mexpovariate(\u001b[38;5;241m1\u001b[39m) \u001b[38;5;28;01mfor\u001b[39;00m _ \u001b[38;5;129;01min\u001b[39;00m \u001b[38;5;28mrange\u001b[39m(cardinality\u001b[38;5;241m*\u001b[39m\u001b[38;5;241m*\u001b[39m\u001b[38;5;28mlen\u001b[39m(parents))]\n\u001b[1;32m---> 42\u001b[0m     \u001b[43mmodel\u001b[49m\u001b[38;5;241;43m.\u001b[39;49m\u001b[43madd_cpds\u001b[49m\u001b[43m(\u001b[49m\u001b[43mnode\u001b[49m\u001b[43m,\u001b[49m\u001b[43m \u001b[49m\u001b[43mparents\u001b[49m\u001b[43m,\u001b[49m\u001b[43m \u001b[49m\u001b[43mcpd_values\u001b[49m\u001b[43m)\u001b[49m\n\u001b[0;32m     44\u001b[0m \u001b[38;5;66;03m# Generate random evidence\u001b[39;00m\n\u001b[0;32m     45\u001b[0m evidence \u001b[38;5;241m=\u001b[39m {\u001b[38;5;124mf\u001b[39m\u001b[38;5;124m\"\u001b[39m\u001b[38;5;124mVariable_\u001b[39m\u001b[38;5;132;01m{\u001b[39;00mrandom\u001b[38;5;241m.\u001b[39mrandint(\u001b[38;5;241m1\u001b[39m,\u001b[38;5;250m \u001b[39mnb_nodes)\u001b[38;5;132;01m}\u001b[39;00m\u001b[38;5;124m\"\u001b[39m: random\u001b[38;5;241m.\u001b[39mrandint(\u001b[38;5;241m0\u001b[39m, \u001b[38;5;241m1\u001b[39m) \u001b[38;5;28;01mfor\u001b[39;00m _ \u001b[38;5;129;01min\u001b[39;00m \u001b[38;5;28mrange\u001b[39m(\u001b[38;5;241m5\u001b[39m)}\n",
      "File \u001b[1;32mc:\\Users\\HP.LAPTOP-ESRMF9MQ\\AppData\\Local\\Programs\\Python\\Python310\\lib\\site-packages\\pgmpy\\models\\BayesianNetwork.py:256\u001b[0m, in \u001b[0;36mBayesianNetwork.add_cpds\u001b[1;34m(self, *cpds)\u001b[0m\n\u001b[0;32m    254\u001b[0m \u001b[38;5;28;01mfor\u001b[39;00m cpd \u001b[38;5;129;01min\u001b[39;00m cpds:\n\u001b[0;32m    255\u001b[0m     \u001b[38;5;28;01mif\u001b[39;00m \u001b[38;5;129;01mnot\u001b[39;00m \u001b[38;5;28misinstance\u001b[39m(cpd, (TabularCPD, ContinuousFactor)):\n\u001b[1;32m--> 256\u001b[0m         \u001b[38;5;28;01mraise\u001b[39;00m \u001b[38;5;167;01mValueError\u001b[39;00m(\u001b[38;5;124m\"\u001b[39m\u001b[38;5;124mOnly TabularCPD or ContinuousFactor can be added.\u001b[39m\u001b[38;5;124m\"\u001b[39m)\n\u001b[0;32m    258\u001b[0m     \u001b[38;5;28;01mif\u001b[39;00m \u001b[38;5;28mset\u001b[39m(cpd\u001b[38;5;241m.\u001b[39mscope()) \u001b[38;5;241m-\u001b[39m \u001b[38;5;28mset\u001b[39m(cpd\u001b[38;5;241m.\u001b[39mscope())\u001b[38;5;241m.\u001b[39mintersection(\u001b[38;5;28mset\u001b[39m(\u001b[38;5;28mself\u001b[39m\u001b[38;5;241m.\u001b[39mnodes())):\n\u001b[0;32m    259\u001b[0m         \u001b[38;5;28;01mraise\u001b[39;00m \u001b[38;5;167;01mValueError\u001b[39;00m(\u001b[38;5;124m\"\u001b[39m\u001b[38;5;124mCPD defined on variable not in the model\u001b[39m\u001b[38;5;124m\"\u001b[39m, cpd)\n",
      "\u001b[1;31mValueError\u001b[0m: Only TabularCPD or ContinuousFactor can be added."
     ]
    }
   ],
   "source": [
    "import random\n",
    "from pgmpy.models import BayesianModel\n",
    "from pgmpy.estimators import ParameterEstimator\n",
    "from pgmpy.sampling import BayesianModelSampling\n",
    "\n",
    "# Set the number of nodes and maximum number of parents\n",
    "nb_nodes = 38\n",
    "nb_parent_max = 3\n",
    "\n",
    "# Initialize the Bayesian Model\n",
    "dag = BayesianModel()\n",
    "\n",
    "# Generate the random graph\n",
    "for node in range(nb_nodes, 1, -1):\n",
    "    # Ensure that the sample size is within bounds\n",
    "    sample_size = min(random.randint(0, nb_parent_max), node - 1)\n",
    "    \n",
    "    N_parent = random.sample(range(node), sample_size)\n",
    "    dag.add_nodes_from([node])\n",
    "    dag.add_edges_from([(parent, node) for parent in N_parent])\n",
    "\n",
    "# To avoid isolated nodes\n",
    "for i in range(1, nb_nodes + 1):\n",
    "    ps = dag.predecessors(i)\n",
    "    cs = dag.successors(i)\n",
    "    if not ps and not cs:\n",
    "        if i == 1:\n",
    "            N_children = random.sample(range(1, nb_nodes + 1), min(2, nb_nodes))\n",
    "            dag.add_edges_from([(i, N_children[0]), (i, N_children[1])])\n",
    "        else:\n",
    "            N_parent = random.sample(range(1, i), min(1, i - 1))\n",
    "            dag.add_edges_from([(N_parent[0], i)])\n",
    "\n",
    "# Convert the directed acyclic graph to pgmpy format\n",
    "model = BayesianModel(dag.edges())\n",
    "\n",
    "# Randomly assign some CPDs\n",
    "for node in model.nodes():\n",
    "    parents = list(model.predecessors(node))\n",
    "    cardinality = 2  # Binary variables\n",
    "    cpd_values = [random.expovariate(1) for _ in range(cardinality**len(parents))]\n",
    "    model.add_cpds(node, parents, cpd_values)\n",
    "\n",
    "# Generate random evidence\n",
    "evidence = {f\"Variable_{random.randint(1, nb_nodes)}\": random.randint(0, 1) for _ in range(5)}\n",
    "\n",
    "# Perform Bayesian inference\n",
    "inference = BayesianModelSampling(model)\n",
    "samples = inference.forward_sample(size=1000)\n",
    "\n",
    "# Estimate parameters\n",
    "parameter_estimator = ParameterEstimator(model, samples)\n",
    "cpds = parameter_estimator.get_parameters()\n",
    "\n",
    "# Print CPDs\n",
    "for node, cpd in cpds.items():\n",
    "    print(f\"Node {node} CPD:\")\n",
    "    print(cpd)\n",
    "\n",
    "# Perform further analysis or computations as needed\n"
   ]
  },
  {
   "cell_type": "code",
   "execution_count": null,
   "metadata": {},
   "outputs": [],
   "source": []
  }
 ],
 "metadata": {
  "kernelspec": {
   "display_name": "My Python 3 Kernel",
   "language": "python",
   "name": "my-python3-kernel"
  },
  "language_info": {
   "codemirror_mode": {
    "name": "ipython",
    "version": 3
   },
   "file_extension": ".py",
   "mimetype": "text/x-python",
   "name": "python",
   "nbconvert_exporter": "python",
   "pygments_lexer": "ipython3",
   "version": "3.10.11"
  }
 },
 "nbformat": 4,
 "nbformat_minor": 2
}
